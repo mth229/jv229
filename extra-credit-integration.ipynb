{
  "cells": [
     {"cell_type":"markdown","source":"<h1>Extra credit on integration</h1>","metadata":{"internals":{"slide_type":"subslide","slide_helper":"subslide_end"},"slideshow":{"slide_type":"slide"},"slide_helper":"slide_end"}},
{"cell_type":"markdown","source":"<p>This is worth 5 points extra credit if done properly and turned in by May 18.</p>","metadata":{}},
{"cell_type":"markdown","source":"<p>Get this as an <a href=\"./extra-credit-integration.ipynb\">ipynb</a> file for IJulia.</p>","metadata":{}},
{"cell_type":"markdown","source":"<hr />","metadata":{}},
{"cell_type":"markdown","source":"<p>Definite integration can be done different ways:</p>","metadata":{}},
{"cell_type":"markdown","source":"<ul>\n<li>If an antiderivative exists, the fundamental theorem of calculus can be used:</li>\n</ul>","metadata":{}},
{"cell_type":"markdown","source":"\n$$\n\\int_a^b f(x) dx = F(b) - F(a)\n$$\n","metadata":{}},
{"cell_type":"markdown","source":"<p>In <code>Julia</code>, the <code>SymPy</code> package can find antiderivatives and evaluate, but that isn't needed here.</p>","metadata":{}},
{"cell_type":"markdown","source":"<ul>\n<li>If a numeric answer is sought, then the <code>quadgk</code> function can provide an answer using an algorithm more sophisticated than a Riemann sum. This function gives two answers: the answer and an estimate on the maximum possible error between the true answer and the numerical estimate. </li>\n</ul>","metadata":{}},
{"cell_type":"markdown","source":"<p>Suppose $f(x) \\geq 0$. Then different definite integrals have different interpretations. The Riemann sum approach uses the fact that</p>","metadata":{}},
{"cell_type":"markdown","source":"<blockquote>\n<p>The definite integral $\\int_a^b f(x) dx$ is the area under $f(x)$ over the interval $[a,b]$.</p>\n</blockquote>","metadata":{}},
{"cell_type":"markdown","source":"<p>Some integrals give different values. For example</p>","metadata":{}},
{"cell_type":"markdown","source":"<blockquote>\n<p>The definite integral $\\int_a^b \\sqrt{1 + f'(x)^2} dx$ give the arc length of the graph of $f(x)$ between $a$ and $b$.</p>\n</blockquote>","metadata":{}},
{"cell_type":"markdown","source":"<h2>Questions</h2>","metadata":{"internals":{"slide_type":"subslide","slide_helper":"subslide_end"},"slideshow":{"slide_type":"slide"},"slide_helper":"slide_end"}},
{"cell_type":"markdown","source":"<p>Use the following packages:</p>","metadata":{}},
{"outputs":[{"output_type":"execute_result","data":{"text/plain":["ctranspose (generic function with 38 methods)"]},"metadata":{},"execution_count":null}],"cell_type":"code","source":["using Plots\nusing Roots\nBase.ctranspose(f::Function) = D(f)"],"metadata":{},"execution_count":null},
{"cell_type":"markdown","source":"<ul>\n<li>Use the <code>quadgk</code> function (<code>quadgk&#40;f, a, b&#41;</code> or <code>quadgk&#40;f,a,b&#41;&#91;1&#93;</code> to get just the answer) to show that the arc length of the function $f(x) = 2 + 3x$ over $[0,4]$ is the same as given by the distance formula between the points $(0, f(0))$ and $(4, f(4))$.</li>\n</ul>","metadata":{}},
{"outputs":[{"output_type":"execute_result","data":{"text/latex":[""]},"metadata":{},"execution_count":null}],"cell_type":"code","source":[""],"metadata":{},"execution_count":null},
{"cell_type":"markdown","source":"<ul>\n<li>The function <code>cosh</code> implements the <em>hyperbolic</em> cosine. Make a plot of the graph over the interval $[-2, 3]$. <em>Estimate</em> the area under the graph. (Is it about 6, 10, 14, 20, ...?)</li>\n</ul>","metadata":{}},
{"outputs":[{"output_type":"execute_result","data":{"text/latex":[""]},"metadata":{},"execution_count":null}],"cell_type":"code","source":[""],"metadata":{},"execution_count":null},
{"cell_type":"markdown","source":"<ul>\n<li>From the same graph estimate the arc length of the graph. (It is more than 5 and less than 19 = 4 + 5 + 10.)</li>\n</ul>","metadata":{}},
{"outputs":[{"output_type":"execute_result","data":{"text/latex":[""]},"metadata":{},"execution_count":null}],"cell_type":"code","source":[""],"metadata":{},"execution_count":null},
{"cell_type":"markdown","source":"<ul>\n<li>Use <code>quadgk</code> to numerically find the area under the <code>cosh</code> function over $[-2, 3]$.</li>\n</ul>","metadata":{}},
{"outputs":[{"output_type":"execute_result","data":{"text/latex":[""]},"metadata":{},"execution_count":null}],"cell_type":"code","source":[""],"metadata":{},"execution_count":null},
{"cell_type":"markdown","source":"<ul>\n<li>Use <code>quadgk</code> to numerically find the arc length of the graph of the <code>cosh</code> function over $[-2, 3]$.</li>\n</ul>","metadata":{}},
{"outputs":[{"output_type":"execute_result","data":{"text/latex":[""]},"metadata":{},"execution_count":null}],"cell_type":"code","source":[""],"metadata":{},"execution_count":null},
{"cell_type":"markdown","source":"<ul>\n<li>What do you notice about the last two answers?</li>\n</ul>","metadata":{}},
{"outputs":[{"output_type":"execute_result","data":{"text/latex":[""]},"metadata":{},"execution_count":null}],"cell_type":"code","source":[""],"metadata":{},"execution_count":null}
    ],
 "metadata": {
  "language_info": {
   "name": "julia",
   "version": "0.4"
  },
 "kernelspec": {
   "display_name": "Julia 0.4.0",
   "language": "julia",
   "name": "julia-0.4"
  }

 },
 "nbformat": 4,
 "nbformat_minor": 0

}
