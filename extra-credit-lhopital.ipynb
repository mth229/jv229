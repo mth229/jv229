{
  "cells": [
     {"cell_type":"markdown","source":"<h2>Extra credit questions on L'Hopital's Rule</h2>","metadata":{"internals":{"slide_type":"subslide","slide_helper":"subslide_end"},"slideshow":{"slide_type":"slide"},"slide_helper":"slide_end"}},
{"cell_type":"markdown","source":"<p>This is worth 5 points extra credit if done properly and turned in by May 4.</p>","metadata":{}},
{"cell_type":"markdown","source":"<p>Get this as an <a href=\"./extra-credit-lhopital.ipynb\">ipynb</a> file for IJulia.</p>","metadata":{}},
{"cell_type":"markdown","source":"<p>L'Hopital's Rule is a valuable tool for computing certain limits, limits of a particular indeterminate form. These forms are of type $0/0$ and $\\infty/\\infty$.</p>","metadata":{}},
{"cell_type":"markdown","source":"<p>The question is to determine if the following has a limit, and if it does what is it:</p>","metadata":{}},
{"cell_type":"markdown","source":"\n$$\n\\lim_{x \\rightarrow c} \\frac{f(x)}{g(x)}.\n$$\n","metadata":{}},
{"cell_type":"markdown","source":"<p>The basic idea is if you plug in \"c\" and you get the indeterminate forms above, then if </p>","metadata":{}},
{"cell_type":"markdown","source":"\n$$\nL = \\lim_{x \\rightarrow c} \\frac{f'(x)}{g'(x)},\n$$\n","metadata":{}},
{"cell_type":"markdown","source":"<p>then this same $L$ is the answer to the first question. </p>","metadata":{}},
{"cell_type":"markdown","source":"<p>In <code>julia</code> we can approach this numerically. First, let's load some packages:</p>","metadata":{}},
{"outputs":[{"output_type":"execute_result","data":{"text/plain":["ctranspose (generic function with 38 methods)"]},"metadata":{},"execution_count":null}],"cell_type":"code","source":["using Plots\nusing Roots\nBase.ctranspose(f::Function) = D(f)"],"metadata":{},"execution_count":null},
{"cell_type":"markdown","source":"<p>And let's look at a favorite example – whose answer is known by other means – $\\sin(x)/x$ at $c=0$.</p>","metadata":{}},
{"outputs":[{"output_type":"execute_result","data":{"text/plain":["1.0"]},"metadata":{},"execution_count":null}],"cell_type":"code","source":["f(x) = sin(x)\ng(x) = x\nc = 0\nf(c)/g(c)\t\t\t# NaN is indeterminate\nf'(c) / g'(c)\t\t# We can plug in to get the limit!"],"metadata":{},"execution_count":null},
{"cell_type":"markdown","source":"<p>So the limit is $1$.</p>","metadata":{}},
{"cell_type":"markdown","source":"<p>Some times, we get the $f'(c)/g'(c)$ is <strong>also</strong> of indeterminate form. In that case, if $f''(x)/g''(x)$ has a limit at $c$, then so will $f(x)/g(x)$, etc.  If higher-order derivatives are need, the syntax is <code>f&#39;&#39;</code>, <code>f&#39;&#39;&#39;</code>, ...</p>","metadata":{}},
{"cell_type":"markdown","source":"<h2>Exercises</h2>","metadata":{"internals":{"slide_type":"subslide","slide_helper":"subslide_end"},"slideshow":{"slide_type":"slide"},"slide_helper":"slide_end"}},
{"cell_type":"markdown","source":"<ul>\n<li>Use L'Hopital's rule to evaluate the limit or state that the limit does not exist or that the rule does not apply.</li>\n</ul>","metadata":{}},
{"cell_type":"markdown","source":"\n$$\n\\lim_{x \\rightarrow 0}\\frac{\\sin(4x)}{x^2 + 3x + 1}.\n$$\n","metadata":{}},
{"outputs":[{"output_type":"execute_result","data":{"text/latex":[""]},"metadata":{},"execution_count":null}],"cell_type":"code","source":[""],"metadata":{},"execution_count":null},
{"cell_type":"markdown","source":"<ul>\n<li>Use L'Hopital's rule to evaluate the limit or state that the limit does not exist or that the rule does not apply.</li>\n</ul>","metadata":{}},
{"cell_type":"markdown","source":"\n$$\n\\lim_{x \\rightarrow 0}\\frac{1 - \\cos(x) - \\sin^2(x)}{\\sin(x)}.\n$$\n","metadata":{}},
{"outputs":[{"output_type":"execute_result","data":{"text/latex":[""]},"metadata":{},"execution_count":null}],"cell_type":"code","source":[""],"metadata":{},"execution_count":null},
{"cell_type":"markdown","source":"<ul>\n<li>Compute the following limit with the aid of L'Hopital's rule.</li>\n</ul>","metadata":{}},
{"cell_type":"markdown","source":"\n$$\n\\lim_{x \\rightarrow 0} \\frac{\\tan^{-1}(x)}{\\sin^{-1}(x)}.\n$$\n","metadata":{}},
{"outputs":[{"output_type":"execute_result","data":{"text/latex":[""]},"metadata":{},"execution_count":null}],"cell_type":"code","source":[""],"metadata":{},"execution_count":null},
{"cell_type":"markdown","source":"<ul>\n<li>Use L'Hopital's rule to evaluate the limit or state that the limit does not exist or that the rule does not apply.</li>\n</ul>","metadata":{}},
{"cell_type":"markdown","source":"\n$$\n\\lim_{x \\rightarrow 0}\\frac{(1-\\cos(x))^2}{x^4 + x^2}.\n$$\n","metadata":{}},
{"outputs":[{"output_type":"execute_result","data":{"text/latex":[""]},"metadata":{},"execution_count":null}],"cell_type":"code","source":[""],"metadata":{},"execution_count":null},
{"cell_type":"markdown","source":"<ul>\n<li>Rewriting functions. The form $f(c)\\cdot g(c) = 0 \\cdot \\infty$ can be rewritten to become $0/0$ by considering the ratio $f(c)/(1/g(x))$.</li>\n</ul>","metadata":{}},
{"cell_type":"markdown","source":"<p>Compute the following limit with the aid of L'Hopital's rule.</p>","metadata":{}},
{"cell_type":"markdown","source":"\n$$\n\\lim_{x \\rightarrow 1}  \\tan(\\frac{\\pi x}{2}) \\ln(x).\n$$\n","metadata":{}},
{"outputs":[{"output_type":"execute_result","data":{"text/latex":[""]},"metadata":{},"execution_count":null}],"cell_type":"code","source":[""],"metadata":{},"execution_count":null}
    ],
 "metadata": {
  "language_info": {
   "name": "julia",
   "version": "0.4"
  },
 "kernelspec": {
   "display_name": "Julia 0.4.0",
   "language": "julia",
   "name": "julia-0.4"
  }

 },
 "nbformat": 4,
 "nbformat_minor": 0

}
