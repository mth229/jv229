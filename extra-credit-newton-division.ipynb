{
  "cells": [
     {"cell_type":"markdown","source":"<h1>Extra credit problem on Newton's Method</h1>","metadata":{"internals":{"slide_type":"subslide","slide_helper":"subslide_end"},"slideshow":{"slide_type":"slide"},"slide_helper":"slide_end"}},
{"cell_type":"markdown","source":"<p>This is worth 5 points extra credit if done properly and turned in by May 18.</p>","metadata":{}},
{"cell_type":"markdown","source":"<p>Get this as an <a href=\"./extra-credit-newton-division.ipynb\">ipynb</a> file for IJulia.</p>","metadata":{}},
{"cell_type":"markdown","source":"<hr />","metadata":{}},
{"cell_type":"markdown","source":"<p><a href=\"http://en.wikipedia.org/wiki/Division_algorithm\">Newton-Raphson Division</a> is a means to divide by multiplying. Why would you want to do that? Well, even for computers division is harder (read slower) than multiplying.The trick is that $p/q$ is simply $p \\cdot (1/q)$, so finding a means to compute a reciprocal by multiplying will reduce division to multiplication.  (This trick is used by <a href=\"http://www.yeppp.info/resources/ppam-presentation.pdf\">yeppp</a>, a high performance library for computational mathematics.)</p>","metadata":{}},
{"cell_type":"markdown","source":"<p>Well suppose we have $q$, we could try to use Newton's method to find $1/q$, as it is a solution to $f(x) = x - 1/q$. The Newton update step $x - f(x) / f'(x)$ simplifies to:</p>","metadata":{}},
{"cell_type":"markdown","source":"\n$$\nx - (x - 1/q)/ 1 = 1/q.\n$$\n","metadata":{}},
{"cell_type":"markdown","source":"<p>That doesn't really help, as Newton's method is just $x_{i+1} = 1/q$ – that is it just jumps to the answer, the one we want to compute by some other means. That isn't so helpful.</p>","metadata":{}},
{"cell_type":"markdown","source":"<p>Let's try again, simplify the update step for a related function: $f(x) = 1/x - q$ and then write the <code>julia</code> code for one step of Newton's method (your answer should look something like $x = 1/2 \\cdot (x + q/x)$, though that solves $\\sqrt{q}$):</p>","metadata":{}},
{"outputs":[{"output_type":"execute_result","data":{"text/latex":[""]},"metadata":{},"execution_count":null}],"cell_type":"code","source":[""],"metadata":{},"execution_count":null},
{"cell_type":"markdown","source":"<p>Now for $q$ in the interval $[1/2, 1]$ we want to get a <em>good</em> initial guess. Here is a claim. We can use $x_0=48/17 - 32/17 q$. Let's check:</p>","metadata":{}},
{"cell_type":"markdown","source":"<p>Make a graph of <em>both</em> $y=1/x$ and $y=48/17 - 32/17 \\cdot x$ on this interval. If you look closely you should see that the largest difference between the two graphs is at the endpoints and the midpoint.</p>","metadata":{}},
{"outputs":[{"output_type":"execute_result","data":{"text/latex":[""]},"metadata":{},"execution_count":null}],"cell_type":"code","source":[""],"metadata":{},"execution_count":null},
{"cell_type":"markdown","source":"<p>Graphically estimate the largest difference:</p>","metadata":{}},
{"outputs":[{"output_type":"execute_result","data":{"text/latex":[""]},"metadata":{},"execution_count":null}],"cell_type":"code","source":[""],"metadata":{},"execution_count":null},
{"cell_type":"markdown","source":"<p>Here is something that people have shown to be true: for any $q$ in $[1/2, 1]$ and with the initial guess $x_0 = 48/17 - 32/17q$, Newton's method will converge to 16 digits of accuracy in no more than this many steps:</p>","metadata":{}},
{"cell_type":"markdown","source":"\n$$\n\\log_2(\\frac{53 + 1}{\\log_2(17)}).\n$$\n","metadata":{}},
{"cell_type":"markdown","source":"<p>What is the smallest integer as large as this value?</p>","metadata":{}},
{"outputs":[{"output_type":"execute_result","data":{"text/latex":[""]},"metadata":{},"execution_count":null}],"cell_type":"code","source":[""],"metadata":{},"execution_count":null},
{"cell_type":"markdown","source":"<p>For $q = 0.80$, find $1/q$ using the above. Write your commands showing all the steps you needed.</p>","metadata":{}},
{"outputs":[{"output_type":"execute_result","data":{"text/latex":[""]},"metadata":{},"execution_count":null}],"cell_type":"code","source":[""],"metadata":{},"execution_count":null},
{"cell_type":"markdown","source":"<p>Finally, any thoughts on what to do to find $p/q$ this way <em>if</em> $q$ is not in the interval $[1/2, 1]$?</p>","metadata":{}},
{"outputs":[{"output_type":"execute_result","data":{"text/latex":[""]},"metadata":{},"execution_count":null}],"cell_type":"code","source":[""],"metadata":{},"execution_count":null}
    ],
 "metadata": {
  "language_info": {
   "name": "julia",
   "version": "0.4"
  },
 "kernelspec": {
   "display_name": "Julia 0.4.0",
   "language": "julia",
   "name": "julia-0.4"
  }

 },
 "nbformat": 4,
 "nbformat_minor": 0

}
